{
 "cells": [
  {
   "cell_type": "markdown",
   "metadata": {},
   "source": [
    "# Data Representation for Neural Networks\n",
    "\n",
    "Tensors are **Multi-Dimensional Numpy Arrays** \n",
    "\n",
    "At it's core, a tensor is a container for data - almost always numerical data. So it's a container for numbers. \n",
    "Tensors are a **generalization** of matrices to an **arbitrary number of dimensions**. \n",
    "\n",
    "### 3 Key attributes\n",
    "\n",
    "* **Rank**, i.e. Number of Axis: E.g. a 3D tensor has three axis, a matrix 2. This is also called the tensor's _ndim_ in python libraries such as numpy. In the context of tensors, \n",
    "  * _dimensions_ are often called _axes_. However it's more convenient to refer to a vectors **rank** so that you do not confuse it with the dimensions of a vetor (i.e. the number of antries _along an axis_). See below for tensors of different ranks.\n",
    "* **Shape**: A tuple of integers that describes how many dimensions the tensor has along each axis.\n",
    "* **Data type**: Ususally called _dtype_ in Python can be float32, float64, uint8. Not so much char.\n",
    "\n",
    "\n",
    "### Tensor Ranks\n",
    "\n",
    "1. 0D - Scalars: A tensor that **contains only one number** is called a scalar / scalar tensor / 0-dimensional tensor / 0D tensor\n",
    "2. 1D - Vectors: An **array of numbers** is called a vector or 1D Tensor with exactly 1 axis.\n",
    "3. 2D - Matrices: An **array of vectors** is called a matrix. You can visually think of a rectangular grid with rows and columns. \n",
    "4. 3D and higher dimensional tensors: An **array of matrices** which you can interpret as a cube of numbers, thus 3D. By packing 3D tensors in an array you'll get a 4D tensor and so on.... "
   ]
  },
  {
   "cell_type": "code",
   "execution_count": 15,
   "metadata": {},
   "outputs": [
    {
     "name": "stdout",
     "output_type": "stream",
     "text": [
      "Example of a Scalar tensor with a rank of 0 , shape of () and datatype int64 \n",
      "0D Tensor: 12 \n",
      "-------\n",
      "\n",
      "Example of a Vector tensor with a rank of 1 , shape of (4,) and datatype int64 \n",
      "1D Tensor: [12  3  6 14] \n",
      "-------\n",
      "\n",
      "Example of a Matrix tensor with a rank of 2 , shape of (3, 4) and datatype int64 \n",
      "2D Tensor:\n",
      " [[ 0  1  2  3]\n",
      " [ 4  5  6  7]\n",
      " [ 8  9 10 11]] \n",
      "-------\n",
      "\n",
      "Example of a 3D tensor with a rank of 3 , shape of (3, 3, 4) and datatype int64 \n",
      "3D Tensor:\n",
      " [[[ 0  1  2  3]\n",
      "  [ 4  5  6  7]\n",
      "  [ 8  9 10 11]]\n",
      "\n",
      " [[12 13 14 15]\n",
      "  [16 17 18 19]\n",
      "  [20 21 22 23]]\n",
      "\n",
      " [[24 25 26 27]\n",
      "  [28 29 30 31]\n",
      "  [32 33 34 35]]] \n",
      "-------\n",
      "\n"
     ]
    }
   ],
   "source": [
    "import numpy as np\n",
    "\n",
    "# 0D Tensor: Scalar\n",
    "x = np.array(12)\n",
    "print(\"Example of a Scalar tensor with a rank of\", x.ndim, \", shape of\", x.shape, \"and datatype\", x.dtype , \"\\n0D Tensor:\", x, \"\\n-------\\n\")\n",
    "\n",
    "# 1D Tensor: Vector\n",
    "x = np.array([12, 3, 6, 14])\n",
    "print(\"Example of a Vector tensor with a rank of\", x.ndim, \", shape of\", x.shape, \"and datatype\", x.dtype , \"\\n1D Tensor:\", x, \"\\n-------\\n\")\n",
    "\n",
    "# 2D Tensor: Matrix\n",
    "x = np.arange(12).reshape((3, 4))\n",
    "print(\"Example of a Matrix tensor with a rank of\", x.ndim, \", shape of\", x.shape, \"and datatype\", x.dtype , \"\\n2D Tensor:\\n\", x, \"\\n-------\\n\")\n",
    "\n",
    "# 3D Tensor\n",
    "x = np.arange(36).reshape((3, 3, 4))\n",
    "print(\"Example of a 3D tensor with a rank of\", x.ndim, \", shape of\", x.shape, \"and datatype\", x.dtype , \"\\n3D Tensor:\\n\", x, \"\\n-------\\n\")"
   ]
  },
  {
   "cell_type": "markdown",
   "metadata": {},
   "source": [
    "To make this more concrete, let's look at the MNIST dataset. "
   ]
  },
  {
   "cell_type": "code",
   "execution_count": 16,
   "metadata": {},
   "outputs": [],
   "source": [
    "from keras.datasets import mnist"
   ]
  },
  {
   "cell_type": "code",
   "execution_count": 20,
   "metadata": {},
   "outputs": [
    {
     "name": "stdout",
     "output_type": "stream",
     "text": [
      "Number of axes of the tensor _train_images_: 3\n",
      "Shape of the tensor _train_images_: (60000, 28, 28)\n",
      "Datatype of the tensor _train_images_: uint8\n",
      "This is a 3D tensor of 8bit integers. More precisely its an array of 60k matrices of 28x28 integers. Each such matrix is a grayscale image, with coefficients between 0 and 255.\n"
     ]
    }
   ],
   "source": [
    "(train_images, train_labels), (test_images, test_labels) = mnist.load_data()\n",
    "\n",
    "# Next we display the number of axes of the tensor train_images\n",
    "print(\"Number of axes of the tensor _train_images_:\", train_images.ndim)\n",
    "print(\"Shape of the tensor _train_images_:\", train_images.shape)\n",
    "print(\"Datatype of the tensor _train_images_:\", train_images.dtype)\n",
    "print(\"This is a 3D tensor of 8bit integers. More precisely its an array of 60k matrices of 28x28 integers. Each such matrix is a grayscale image, with coefficients between 0 and 255.\")"
   ]
  },
  {
   "cell_type": "code",
   "execution_count": 22,
   "metadata": {},
   "outputs": [
    {
     "data": {
      "image/png": "[encoded data removed]",
      "text/plain": [
       "<Figure size 432x288 with 1 Axes>"
      ]
     },
     "metadata": {
      "needs_background": "light"
     },
     "output_type": "display_data"
    }
   ],
   "source": [
    "import matplotlib.pyplot as plt\n",
    "\n",
    "digit = train_images[4]\n",
    "plt.imshow(digit, cmap=plt.cm.binary)\n",
    "plt.show()"
   ]
  },
  {
   "cell_type": "code",
   "execution_count": null,
   "metadata": {},
   "outputs": [],
   "source": []
  }
 ],
 "metadata": {
  "interpreter": {
   "hash": "a481908efc976352568051b9ddcf43a247bdd059f95919b3c0880bc73d24bc6f"
  },
  "kernelspec": {
   "display_name": "Python 3.8.5 64-bit ('3.8.5': pyenv)",
   "name": "python3"
  },
  "language_info": {
   "codemirror_mode": {
    "name": "ipython",
    "version": 3
   },
   "file_extension": ".py",
   "mimetype": "text/x-python",
   "name": "python",
   "nbconvert_exporter": "python",
   "pygments_lexer": "ipython3",
   "version": "3.8.5"
  },
  "orig_nbformat": 4
 },
 "nbformat": 4,
 "nbformat_minor": 2
}
