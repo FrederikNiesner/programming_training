{
 "cells": [
  {
   "cell_type": "markdown",
   "metadata": {},
   "source": [
    "# Euclidean vs. Cosine Similarity\n",
    "\n",
    "## When to use which distance metric? \n",
    "\n",
    "This notebook compares two different measures of distance in a vector space and why either has its function under different circumstances. \n",
    "\n",
    "Starting off with quite a straight-forward example... \n",
    "* we have our vector space X, that contains instances with animals. \n",
    "* They are measured by their length, and weight. \n",
    "* They have also been labelled by their stage of aging (young = 0, mid = 1, adult = 2). \n",
    "\n",
    "Source: https://cmry.github.io/notes/euclidean-v-cosine"
   ]
  },
  {
   "cell_type": "code",
   "execution_count": 3,
   "metadata": {},
   "outputs": [
    {
     "data": {
      "text/plain": [
       "<AxesSubplot:xlabel='weight', ylabel='length'>"
      ]
     },
     "execution_count": 3,
     "metadata": {},
     "output_type": "execute_result"
    },
    {
     "data": {
      "image/png": "[encoded data removed]",
      "text/plain": [
       "<Figure size 432x288 with 1 Axes>"
      ]
     },
     "metadata": {
      "needs_background": "light"
     },
     "output_type": "display_data"
    }
   ],
   "source": [
    "import numpy as np\n",
    "import pandas as pd\n",
    "%matplotlib inline\n",
    "\n",
    "# Dataset we are working with.\n",
    "X = np.array([[6.6, 6.2, 1],\n",
    "              [9.7, 9.9, 2],\n",
    "              [8.0, 8.3, 2],\n",
    "              [6.3, 5.4, 1],\n",
    "              [1.3, 2.7, 0],\n",
    "              [2.3, 3.1, 0],\n",
    "              [6.6, 6.0, 1],\n",
    "              [6.5, 6.4, 1],\n",
    "              [6.3, 5.8, 1],\n",
    "              [9.5, 9.9, 2],\n",
    "              [8.9, 8.9, 2],\n",
    "              [8.7, 9.5, 2],\n",
    "              [2.5, 3.8, 0],\n",
    "              [2.0, 3.1, 0],\n",
    "              [1.3, 1.3, 0]])\n",
    "\n",
    "# Turn numpy array into dataframe\n",
    "df = pd.DataFrame(X, columns=['weight', 'length', 'label'])\n",
    "\n",
    "# Plot the data on a scatter plot\n",
    "ax = df[df['label'] == 0].plot.scatter(x='weight', y='length', c='blue', label='young')\n",
    "ax = df[df['label'] == 1].plot.scatter(x='weight', y='length', c='orange', label='mid', ax=ax)\n",
    "ax = df[df['label'] == 2].plot.scatter(x='weight', y='length', c='red', label='adult', ax=ax)\n",
    "ax"
   ]
  },
  {
   "cell_type": "markdown",
   "metadata": {},
   "source": [
    "Looking at the Scatter Plot: \n",
    "\n",
    "* the three classes are pretty well distinguishable by these two features that we have. \n",
    "* Say that we apply k-NN to our data that will learn to classify new instances based on their distance to our known instances (and their labels). \n",
    "* The algorithm needs a distance metric to determine which of the known instances are closest to the new one. \n",
    "* Let’s try to choose between either euclidean or cosine for this example.\n"
   ]
  },
  {
   "cell_type": "markdown",
   "metadata": {},
   "source": [
    "## Euclidean Distance\n",
    "\n",
    "Our euclidean distance function can be defined as follows:\n",
    "\n",
    "![image](https://wikimedia.org/api/rest_v1/media/math/render/svg/33c51af836e0c5bcbdf9fb2ab0e1a383c55e3ce9)"
   ]
  },
  {
   "cell_type": "code",
   "execution_count": 4,
   "metadata": {},
   "outputs": [],
   "source": [
    "# in code\n",
    "def euclideanDistance(q, p):\n",
    "    return np.sqrt(np.sum((q - p)**2))"
   ]
  },
  {
   "cell_type": "code",
   "execution_count": 5,
   "metadata": {},
   "outputs": [
    {
     "name": "stdout",
     "output_type": "stream",
     "text": [
      "Examples Vectors: \n",
      " x0: [6.6 6.2] \n",
      " x1: [9.7 9.9] \n",
      " x4: [1.3 2.7] \n",
      "x14: [1.3 1.3] \n",
      "\n",
      "Euclidean Distance: \n",
      " x14 and x0: 7.218032973047436 \n",
      " x14 and x1: 12.021647141718974 \n",
      " x14 and x4: 1.4000000000000001\n"
     ]
    }
   ],
   "source": [
    "# Some examples from the dataset\n",
    "\n",
    "x0 = X[0][:-1]\n",
    "x1 = X[1][:-1]\n",
    "x4 = X[4][:-1]\n",
    "x14 = X[14][:-1]\n",
    "\n",
    "print(\"Examples Vectors: \\n\", \"x0:\", x0, \"\\n x1:\", x1, \"\\n x4:\", x4, \"\\nx14:\", x14, \"\\n\")\n",
    "\n",
    "# Euclidean Distance examples\n",
    "print(\"Euclidean Distance:\" , \"\\n\",\n",
    "      \"x14 and x0:\", euclideanDistance(x14, x0), \"\\n\",\n",
    "      \"x14 and x1:\", euclideanDistance(x14, x1), \"\\n\",\n",
    "      \"x14 and x4:\", euclideanDistance(x14, x4))\n",
    "\n"
   ]
  },
  {
   "cell_type": "code",
   "execution_count": 6,
   "metadata": {},
   "outputs": [
    {
     "data": {
      "text/plain": [
       "<AxesSubplot:xlabel='weight', ylabel='length'>"
      ]
     },
     "execution_count": 6,
     "metadata": {},
     "output_type": "execute_result"
    },
    {
     "data": {
      "image/png": "[encoded data removed]",
      "text/plain": [
       "<Figure size 432x288 with 1 Axes>"
      ]
     },
     "metadata": {
      "needs_background": "light"
     },
     "output_type": "display_data"
    }
   ],
   "source": [
    "df2 = pd.DataFrame([df.iloc[0], df.iloc[1], df.iloc[4]], columns=['weight', 'length', 'label'])\n",
    "df3 = pd.DataFrame([df.iloc[14]], columns=['weight', 'length', 'label'])\n",
    "\n",
    "ax = df2[df2['label'] == 0].plot.scatter(x='weight', y='length', c='blue', label='young')\n",
    "ax = df2[df2['label'] == 1].plot.scatter(x='weight', y='length', c='orange', label='mid', ax=ax)\n",
    "ax = df2[df2['label'] == 2].plot.scatter(x='weight', y='length', c='red', label='adult', ax=ax)\n",
    "ax = df3.plot.scatter(x='weight', y='length', c='gray', label='?', ax=ax)\n",
    "ax"
   ]
  },
  {
   "cell_type": "markdown",
   "metadata": {},
   "source": [
    "According to euclidean distance, instance #14 is closest to #4. \n",
    "\n",
    "Our 4th instance had the label: 0 = young, which is what we would visually also deem the correct label for this instance."
   ]
  },
  {
   "cell_type": "markdown",
   "metadata": {},
   "source": [
    "Now let’s see what happens when we use Cosine similarity.\n",
    "\n",
    "## Cosine Similarity \n",
    "\n",
    "Our cosine similarity function can be defined as follows:\n",
    "Where a and b are two vectors. \n",
    "\n",
    "![cosine](https://wikimedia.org/api/rest_v1/media/math/render/svg/350bc79a3e277bbe96b2d1bc081a599dbc898c35)\n",
    "\n",
    "\n"
   ]
  },
  {
   "cell_type": "code",
   "execution_count": 7,
   "metadata": {},
   "outputs": [],
   "source": [
    "def cosineSimilarity(a, b):\n",
    "    return np.divide(np.dot(a, b), (np.sqrt(np.dot(a, a)) * np.sqrt(np.dot(b, b))))"
   ]
  },
  {
   "cell_type": "code",
   "execution_count": 8,
   "metadata": {},
   "outputs": [
    {
     "name": "stdout",
     "output_type": "stream",
     "text": [
      " x14 and x0: 0.9995120760870786 \n",
      " x14 and x1: 0.9999479424242859 \n",
      " x14 and x4: 0.9438583563660174 \n",
      "\n",
      "According to cosine similarity, instance #14 is closest to #1. However, our 1st instance had the label: \n",
      " [9.7 9.9 2. ] -> label: 2 = adult, which is definitely NOT what we would deem the correct label!\n"
     ]
    }
   ],
   "source": [
    "# Let’s see these calculations for all our vectors:\n",
    "\n",
    "print(\" x14 and x0:\", cosineSimilarity(x14, x0), \"\\n\",\n",
    "      \"x14 and x1:\", cosineSimilarity(x14, x1), \"\\n\",\n",
    "      \"x14 and x4:\", cosineSimilarity(x14, x4), \"\\n\")\n",
    "\n",
    "print(\"According to cosine similarity, instance #14 is closest to #1. However, our 1st instance had the label:\", \"\\n\", \n",
    "    X[1], \"-> label: 2 = adult, which is definitely NOT what we would deem the correct label!\")"
   ]
  },
  {
   "cell_type": "markdown",
   "metadata": {},
   "source": [
    "## So. What happended?\n",
    "\n",
    "Consider the following picture: \n",
    "\n",
    "<img src=\"https://cmry.github.io/sources/eucos.png\" height = 400 >\n",
    "\n",
    "\n",
    "This is a visual representation of both **euclidean distance** (d) and **cosine similarity** (θ).\n",
    "\n",
    "While cosine looks at the **angle** between vectors (thus not taking into account their weights or magnitudes), euclidean distance is similar to using a ruler to actually measure the **distance**. "
   ]
  },
  {
   "cell_type": "markdown",
   "metadata": {},
   "source": [
    "# When to use cosine?\n",
    "\n",
    "Cosine similarity is generally used as a metric for **measuring distance when the magnitude of the vectors does not matter**. This happens for example when working with text data represented by word counts. We could assume that when a word (e.g. `science`) occurs more frequent in document 1, than it does in document 2, that document 1 is more related to the topic of `science`. \n",
    "\n",
    "However it could also be the case that we are wokring with documents of **uneven lengths** (Wikipedia articles for example). Then, `science` probably occured more in document 1 just because it was way longer than document 2. \n",
    "\n",
    "_Cosine similarity corrects for this:_\n",
    "\n",
    "**Text data is the most typical example for when to use this metric.** However, you might also want to apply cosine similarity for other cases where some properties of the instances make so that weights might be larger without meaning anything different. Sensor values that were captured in various lenghts (in time) between instances could be such an example. "
   ]
  },
  {
   "cell_type": "markdown",
   "metadata": {},
   "source": [
    "# How do euclidean and cosine similarity relate?\n",
    "\n",
    "..... to be added. "
   ]
  },
  {
   "cell_type": "markdown",
   "metadata": {},
   "source": [
    "# Cosine in Action\n",
    "\n",
    "So when is cosine handy? \n",
    "Let's consider four articles from Wikipedia. We use the `Wikipedia API` to extract them, after which we can access their text with the `.content`method. "
   ]
  },
  {
   "cell_type": "code",
   "execution_count": 21,
   "metadata": {},
   "outputs": [],
   "source": [
    "import wikipedia\n",
    "\n",
    "\n",
    "q1 = wikipedia.page(pageid=233488)  # Machine learning\n",
    "q2 = wikipedia.page(title='Artifical Intelligence')\n",
    "q3 = wikipedia.page(title='Soccer')\n",
    "q4 = wikipedia.page(pageid=29773) # Tennis "
   ]
  },
  {
   "cell_type": "markdown",
   "metadata": {},
   "source": [
    "We represent these by their frequency vectors. Each instance is a document, and each word will be a feature. The feature values will then represent how many times a word occurs in a certain document. So the feature `ball`, will probalby be 0 for both machine learning and AI, but definitely not 0 for soccer and tennis. "
   ]
  },
  {
   "cell_type": "code",
   "execution_count": 22,
   "metadata": {},
   "outputs": [],
   "source": [
    "from sklearn.feature_extraction.text import CountVectorizer\n",
    "\n",
    "cv = CountVectorizer()\n",
    "X = np.array(cv.fit_transform([q1.content, q2.content, q3.content, q4.content]).todense())"
   ]
  },
  {
   "cell_type": "markdown",
   "metadata": {},
   "source": [
    "The `CountVectorizer`by default splits up the text into words using white spaces. We can do the same to see how many words are in each article. Like this: "
   ]
  },
  {
   "cell_type": "code",
   "execution_count": 23,
   "metadata": {},
   "outputs": [
    {
     "name": "stdout",
     "output_type": "stream",
     "text": [
      "ML \t 7366 \n",
      "AI \t 11885 \n",
      "soccer \t 6620 \n",
      "tennis \t 11660\n"
     ]
    }
   ],
   "source": [
    "print(\"ML \\t\", len(q1.content.split()), \"\\n\"\n",
    "      \"AI \\t\", len(q2.content.split()), \"\\n\"\n",
    "      \"soccer \\t\", len(q3.content.split()), \"\\n\"\n",
    "      \"tennis \\t\", len(q4.content.split()))"
   ]
  },
  {
   "cell_type": "markdown",
   "metadata": {},
   "source": [
    "`AI` is a much larger article than `ML`. This would mean that **if we do not normalize our vectors, AI will be much further away from ML just because it has many more words**. ML will probably be closer to an article with less words. Let's try it out. "
   ]
  },
  {
   "cell_type": "code",
   "execution_count": 24,
   "metadata": {},
   "outputs": [
    {
     "name": "stdout",
     "output_type": "stream",
     "text": [
      "ML - AI \t 473.66549378226824 \n",
      "ML - soccer \t 452.59805567412684 \n",
      "ML - tennis \t 808.791073145593\n"
     ]
    }
   ],
   "source": [
    "print(\"ML - AI \\t\", euclideanDistance(X[0], X[1]), \"\\n\"\n",
    "      \"ML - soccer \\t\", euclideanDistance(X[0], X[2]), \"\\n\"\n",
    "      \"ML - tennis \\t\", euclideanDistance(X[0], X[3]))"
   ]
  },
  {
   "cell_type": "markdown",
   "metadata": {},
   "source": [
    "Here we can see pretty clearly that our prior assumptions have been confirmed. ML seems to be closest to soccer, which doesn't make a lot of sense intuitively. So, what happens if we look at **cosine similairty (i.e. normalizing our vectors!!)**"
   ]
  },
  {
   "cell_type": "code",
   "execution_count": 25,
   "metadata": {},
   "outputs": [
    {
     "name": "stdout",
     "output_type": "stream",
     "text": [
      "ML - AI \t 0.8611659486535193 \n",
      "ML - soccer \t 0.796701916323166 \n",
      "ML - tennis \t 0.8106685696577589\n"
     ]
    }
   ],
   "source": [
    "print(\"ML - AI \\t\", cosineSimilarity(X[0], X[1]), \"\\n\"\n",
    "      \"ML - soccer \\t\", cosineSimilarity(X[0], X[2]), \"\\n\"\n",
    "      \"ML - tennis \\t\", cosineSimilarity(X[0], X[3]))"
   ]
  },
  {
   "cell_type": "markdown",
   "metadata": {},
   "source": [
    "ML is closer to AI! Granted, it still seems pretty close to soccer an tennis judging from these score, but please not that word frequency is not that great of a representation for texts with such rich content in general. "
   ]
  },
  {
   "cell_type": "markdown",
   "metadata": {},
   "source": [
    "# References\n",
    "\n",
    "* \n",
    "* https://cmry.github.io/notes/euclidean-v-cosine\n",
    "* https://paulrohan.medium.com/euclidean-distance-and-normalization-of-a-vector-76f7a97abd9 \n"
   ]
  }
 ],
 "metadata": {
  "interpreter": {
   "hash": "a481908efc976352568051b9ddcf43a247bdd059f95919b3c0880bc73d24bc6f"
  },
  "kernelspec": {
   "display_name": "Python 3.8.5 64-bit ('3.8.5': pyenv)",
   "language": "python",
   "name": "python3"
  },
  "language_info": {
   "codemirror_mode": {
    "name": "ipython",
    "version": 3
   },
   "file_extension": ".py",
   "mimetype": "text/x-python",
   "name": "python",
   "nbconvert_exporter": "python",
   "pygments_lexer": "ipython3",
   "version": "3.8.5"
  },
  "orig_nbformat": 4
 },
 "nbformat": 4,
 "nbformat_minor": 2
}
