{
 "cells": [
  {
   "cell_type": "markdown",
   "metadata": {},
   "source": [
    "# Euclidean vs. Cosine Similarity\n",
    "\n",
    "## When to use which distance metric? \n",
    "\n",
    "This notebook compares two different measures of distance in a vector space and why either has its function under different circumstances. \n",
    "\n",
    "Starting off with quite a straight-forward example... \n",
    "* we have our vector space X, that contains instances with animals. \n",
    "* They are measured by their length, and weight. \n",
    "* They have also been labelled by their stage of aging (young = 0, mid = 1, adult = 2). \n",
    "\n",
    "Source: https://cmry.github.io/notes/euclidean-v-cosine"
   ]
  },
  {
   "cell_type": "code",
   "execution_count": 10,
   "metadata": {},
   "outputs": [
    {
     "data": {
      "text/plain": [
       "<AxesSubplot:xlabel='weight', ylabel='length'>"
      ]
     },
     "execution_count": 10,
     "metadata": {},
     "output_type": "execute_result"
    },
    {
     "data": {
      "image/png": "[encoded data removed]",
      "text/plain": [
       "<Figure size 432x288 with 1 Axes>"
      ]
     },
     "metadata": {
      "needs_background": "light"
     },
     "output_type": "display_data"
    }
   ],
   "source": [
    "import numpy as np\n",
    "import pandas as pd\n",
    "%matplotlib inline\n",
    "\n",
    "# Dataset we are working with.\n",
    "X = np.array([[6.6, 6.2, 1],\n",
    "              [9.7, 9.9, 2],\n",
    "              [8.0, 8.3, 2],\n",
    "              [6.3, 5.4, 1],\n",
    "              [1.3, 2.7, 0],\n",
    "              [2.3, 3.1, 0],\n",
    "              [6.6, 6.0, 1],\n",
    "              [6.5, 6.4, 1],\n",
    "              [6.3, 5.8, 1],\n",
    "              [9.5, 9.9, 2],\n",
    "              [8.9, 8.9, 2],\n",
    "              [8.7, 9.5, 2],\n",
    "              [2.5, 3.8, 0],\n",
    "              [2.0, 3.1, 0],\n",
    "              [1.3, 1.3, 0]])\n",
    "\n",
    "# Turn numpy array into dataframe\n",
    "df = pd.DataFrame(X, columns=['weight', 'length', 'label'])\n",
    "\n",
    "# Plot the data on a scatter plot\n",
    "ax = df[df['label'] == 0].plot.scatter(x='weight', y='length', c='blue', label='young')\n",
    "ax = df[df['label'] == 1].plot.scatter(x='weight', y='length', c='orange', label='mid', ax=ax)\n",
    "ax = df[df['label'] == 2].plot.scatter(x='weight', y='length', c='red', label='adult', ax=ax)\n",
    "ax"
   ]
  },
  {
   "cell_type": "markdown",
   "metadata": {},
   "source": [
    "Looking at the Scatter Plot: \n",
    "\n",
    "* the three classes are pretty well distinguishable by these two features that we have. \n",
    "* Say that we apply k-NN to our data that will learn to classify new instances based on their distance to our known instances (and their labels). \n",
    "* The algorithm needs a distance metric to determine which of the known instances are closest to the new one. \n",
    "* Let’s try to choose between either euclidean or cosine for this example.\n"
   ]
  },
  {
   "cell_type": "markdown",
   "metadata": {},
   "source": [
    "## Euclidean Distance\n",
    "\n",
    "Our euclidean distance function can be defined as follows:\n",
    "\n",
    "![image](https://wikimedia.org/api/rest_v1/media/math/render/svg/33c51af836e0c5bcbdf9fb2ab0e1a383c55e3ce9)"
   ]
  },
  {
   "cell_type": "code",
   "execution_count": 11,
   "metadata": {},
   "outputs": [],
   "source": [
    "# in code\n",
    "def euclideanDistance(q, p):\n",
    "    return np.sqrt(np.sum((q - p)**2))"
   ]
  },
  {
   "cell_type": "code",
   "execution_count": 15,
   "metadata": {},
   "outputs": [
    {
     "name": "stdout",
     "output_type": "stream",
     "text": [
      "Examples Vectors: \n",
      " x0: [6.6 6.2] \n",
      " x1: [9.7 9.9] \n",
      " x4: [1.3 2.7] \n",
      "x14: [1.3 1.3] \n",
      "\n",
      "Euclidean Distance: \n",
      " x14 and x0: 7.218032973047436 \n",
      " x14 and x1: 12.021647141718974 \n",
      " x14 and x4: 1.4000000000000001\n"
     ]
    }
   ],
   "source": [
    "# Some examples from the dataset\n",
    "\n",
    "x0 = X[0][:-1]\n",
    "x1 = X[1][:-1]\n",
    "x4 = X[4][:-1]\n",
    "x14 = X[14][:-1]\n",
    "\n",
    "print(\"Examples Vectors: \\n\", \"x0:\", x0, \"\\n x1:\", x1, \"\\n x4:\", x4, \"\\nx14:\", x14, \"\\n\")\n",
    "\n",
    "# Euclidean Distance examples\n",
    "print(\"Euclidean Distance:\" , \"\\n\",\n",
    "      \"x14 and x0:\", euclideanDistance(x14, x0), \"\\n\",\n",
    "      \"x14 and x1:\", euclideanDistance(x14, x1), \"\\n\",\n",
    "      \"x14 and x4:\", euclideanDistance(x14, x4))\n",
    "\n"
   ]
  },
  {
   "cell_type": "markdown",
   "metadata": {},
   "source": [
    "According to euclidean distance, instance #14 is closest to #4. \n",
    "\n",
    "Our 4th instance had the label: 0 = young, which is what we would visually also deem the correct label for this instance."
   ]
  },
  {
   "cell_type": "code",
   "execution_count": 18,
   "metadata": {},
   "outputs": [
    {
     "name": "stdout",
     "output_type": "stream",
     "text": [
      "Scatter Plot to compare: \n",
      "\n"
     ]
    },
    {
     "data": {
      "text/plain": [
       "<AxesSubplot:xlabel='weight', ylabel='length'>"
      ]
     },
     "execution_count": 18,
     "metadata": {},
     "output_type": "execute_result"
    },
    {
     "data": {
      "image/png": "[encoded data removed]",
      "text/plain": [
       "<Figure size 432x288 with 1 Axes>"
      ]
     },
     "metadata": {
      "needs_background": "light"
     },
     "output_type": "display_data"
    }
   ],
   "source": [
    "# Compare on Scatter Plot\n",
    "print(\"Scatter Plot to compare: \\n\")\n",
    "ax = df[df['label'] == 0].plot.scatter(x='weight', y='length', c='blue', label='young')\n",
    "ax = df[df['label'] == 1].plot.scatter(x='weight', y='length', c='orange', label='mid', ax=ax)\n",
    "ax = df[df['label'] == 2].plot.scatter(x='weight', y='length', c='red', label='adult', ax=ax)\n",
    "ax"
   ]
  },
  {
   "cell_type": "markdown",
   "metadata": {},
   "source": [
    "Now let’s see what happens when we use Cosine similarity.\n",
    "\n",
    "## Cosine Similarity \n",
    "\n",
    "Our cosine similarity function can be defined as follows:\n",
    "Where a and b are two vectors. \n",
    "\n",
    "![cosine](https://wikimedia.org/api/rest_v1/media/math/render/svg/350bc79a3e277bbe96b2d1bc081a599dbc898c35)\n",
    "\n",
    "\n"
   ]
  },
  {
   "cell_type": "code",
   "execution_count": 20,
   "metadata": {},
   "outputs": [],
   "source": [
    "def cosineSimilarity(a, b):\n",
    "    return np.divide(np.dot(a, b), (np.sqrt(np.dot(a, a)) * np.sqrt(np.dot(b, b))))"
   ]
  },
  {
   "cell_type": "code",
   "execution_count": 26,
   "metadata": {},
   "outputs": [
    {
     "name": "stdout",
     "output_type": "stream",
     "text": [
      " x14 and x0: 0.9995120760870786 \n",
      " x14 and x1: 0.9999479424242859 \n",
      " x14 and x4: 0.9438583563660174 \n",
      "\n",
      "According to cosine similarity, instance #14 is closest to #1. However, our 1st instance had the label: \n",
      " [9.7 9.9 2. ] -> label: 2 = adult, which is definitely NOT what we would deem the correct label!\n"
     ]
    }
   ],
   "source": [
    "# Let’s see these calculations for all our vectors:\n",
    "\n",
    "print(\" x14 and x0:\", cosineSimilarity(x14, x0), \"\\n\",\n",
    "      \"x14 and x1:\", cosineSimilarity(x14, x1), \"\\n\",\n",
    "      \"x14 and x4:\", cosineSimilarity(x14, x4), \"\\n\")\n",
    "\n",
    "print(\"According to cosine similarity, instance #14 is closest to #1. However, our 1st instance had the label:\", \"\\n\", \n",
    "    X[1], \"-> label: 2 = adult, which is definitely NOT what we would deem the correct label!\")"
   ]
  },
  {
   "cell_type": "code",
   "execution_count": 23,
   "metadata": {},
   "outputs": [
    {
     "name": "stdout",
     "output_type": "stream",
     "text": [
      "According to cosine similarity, instance #14 is closest to #1. However, our 1st instance had the label: [9.7 9.9 2. ] 2 = adult, which is definitely NOT what we would deem the correct label!\n"
     ]
    }
   ],
   "source": []
  },
  {
   "cell_type": "code",
   "execution_count": null,
   "metadata": {},
   "outputs": [],
   "source": []
  },
  {
   "cell_type": "code",
   "execution_count": null,
   "metadata": {},
   "outputs": [],
   "source": []
  },
  {
   "cell_type": "code",
   "execution_count": null,
   "metadata": {},
   "outputs": [],
   "source": []
  },
  {
   "cell_type": "markdown",
   "metadata": {},
   "source": [
    "# References\n",
    "\n",
    "* \n",
    "* https://cmry.github.io/notes/euclidean-v-cosine\n",
    "* https://paulrohan.medium.com/euclidean-distance-and-normalization-of-a-vector-76f7a97abd9 \n"
   ]
  }
 ],
 "metadata": {
  "interpreter": {
   "hash": "a481908efc976352568051b9ddcf43a247bdd059f95919b3c0880bc73d24bc6f"
  },
  "kernelspec": {
   "display_name": "Python 3.8.5 64-bit ('3.8.5': pyenv)",
   "language": "python",
   "name": "python3"
  },
  "language_info": {
   "codemirror_mode": {
    "name": "ipython",
    "version": 3
   },
   "file_extension": ".py",
   "mimetype": "text/x-python",
   "name": "python",
   "nbconvert_exporter": "python",
   "pygments_lexer": "ipython3",
   "version": "3.8.5"
  },
  "orig_nbformat": 4
 },
 "nbformat": 4,
 "nbformat_minor": 2
}
