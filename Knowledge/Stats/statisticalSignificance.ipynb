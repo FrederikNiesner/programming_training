{
 "cells": [
  {
   "cell_type": "markdown",
   "metadata": {},
   "source": [
    "# Statistical Experiments and Significance Testing\n",
    "\n",
    "The classical statistical inference pipeline.\n",
    "\n",
    "<img src=\"https://www.oreilly.com/library/view/practical-statistics-for/9781492072935/assets/psd2_0301.png\" width=\"50%\"/>"
   ]
  },
  {
   "cell_type": "code",
   "execution_count": null,
   "metadata": {},
   "outputs": [],
   "source": []
  }
 ],
 "metadata": {
  "language_info": {
   "name": "python"
  },
  "orig_nbformat": 4
 },
 "nbformat": 4,
 "nbformat_minor": 2
}
